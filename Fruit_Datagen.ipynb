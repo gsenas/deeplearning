{
  "nbformat": 4,
  "nbformat_minor": 0,
  "metadata": {
    "colab": {
      "name": "Fruit_Datagen.ipynb",
      "provenance": [],
      "collapsed_sections": [],
      "authorship_tag": "ABX9TyPV43J6yYP6YP81gyfxx6BO",
      "include_colab_link": true
    },
    "kernelspec": {
      "name": "python3",
      "display_name": "Python 3"
    },
    "accelerator": "GPU"
  },
  "cells": [
    {
      "cell_type": "markdown",
      "metadata": {
        "id": "view-in-github",
        "colab_type": "text"
      },
      "source": [
        "<a href=\"https://colab.research.google.com/github/gsenas/deeplearning/blob/master/Fruit_Datagen.ipynb\" target=\"_parent\"><img src=\"https://colab.research.google.com/assets/colab-badge.svg\" alt=\"Open In Colab\"/></a>"
      ]
    },
    {
      "cell_type": "markdown",
      "metadata": {
        "id": "TBaykRQJKIs_"
      },
      "source": [
        "En primer lugar, descargamos el dataset de fruits-360 de [github](https://github.com/Horea94/Fruit-Images-Dataset/archive/master.zip)"
      ]
    },
    {
      "cell_type": "code",
      "metadata": {
        "colab": {
          "base_uri": "https://localhost:8080/"
        },
        "id": "IMFRdeI0Jorj",
        "outputId": "ee6e557d-5cb3-480a-8a8e-07c934474bbd"
      },
      "source": [
        "import tensorflow as tf\r\n",
        "import os as os\r\n",
        "\r\n",
        "_URL = 'https://github.com/Horea94/Fruit-Images-Dataset/archive/master.zip'\r\n",
        "\r\n",
        "zip_file = tf.keras.utils.get_file(origin=_URL, fname='Fruit-Images-Dataset-master.zip', extract=True, cache_subdir='/content')"
      ],
      "execution_count": 1,
      "outputs": [
        {
          "output_type": "stream",
          "text": [
            "Downloading data from https://github.com/Horea94/Fruit-Images-Dataset/archive/master.zip\n",
            "792723456/Unknown - 37s 0us/step"
          ],
          "name": "stdout"
        }
      ]
    },
    {
      "cell_type": "markdown",
      "metadata": {
        "id": "El_DaLToR8fX"
      },
      "source": [
        "Establecemos los parámetros iniciales de tamaño de imagen y directorio donde buscar las fotos de frutas.\r\n",
        "\r\n",
        "En este caso estamos aumentando las imágenes de prueba, rotando y modificando los tamaños para tener un dataset mayor por cada fruta"
      ]
    },
    {
      "cell_type": "code",
      "metadata": {
        "colab": {
          "base_uri": "https://localhost:8080/"
        },
        "id": "4dd8NXEZSEWp",
        "outputId": "46b16fac-558a-44ee-e328-8684af873905"
      },
      "source": [
        "base_dir = './Fruit-Images-Dataset-master/Training'\r\n",
        "\r\n",
        "IMAGE_SIZE = 224\r\n",
        "BATCH_SIZE = 64\r\n",
        "\r\n",
        "#datagen = tf.keras.preprocessing.image.ImageDataGenerator(rescale=1./255, rotation range=30,width_shift_range=0.3,height_shift_range=0.3,horizontal_flip=True,validation_split=0.1,fill_mode='nearest')\r\n",
        "\r\n",
        "datagen = tf.keras.preprocessing.image.ImageDataGenerator(\r\n",
        "    rescale=1./255,\r\n",
        "    rotation_range=30,\r\n",
        "    width_shift_range=0.3\r\n",
        ")\r\n",
        "\r\n",
        "train_generator = datagen.flow_from_directory(base_dir, target_size=(IMAGE_SIZE, IMAGE_SIZE), batch_size=BATCH_SIZE, subset='training') "
      ],
      "execution_count": 5,
      "outputs": [
        {
          "output_type": "stream",
          "text": [
            "Found 67692 images belonging to 131 classes.\n"
          ],
          "name": "stdout"
        }
      ]
    }
  ]
}