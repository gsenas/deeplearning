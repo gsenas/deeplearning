{
  "nbformat": 4,
  "nbformat_minor": 0,
  "metadata": {
    "colab": {
      "name": "Fruit_Datagen.ipynb",
      "provenance": [],
      "authorship_tag": "ABX9TyMkxNfWXrLJhX7zqlnlSsKk",
      "include_colab_link": true
    },
    "kernelspec": {
      "name": "python3",
      "display_name": "Python 3"
    },
    "accelerator": "GPU"
  },
  "cells": [
    {
      "cell_type": "markdown",
      "metadata": {
        "id": "view-in-github",
        "colab_type": "text"
      },
      "source": [
        "<a href=\"https://colab.research.google.com/github/gsenas/deeplearning/blob/master/Fruit_Datagen.ipynb\" target=\"_parent\"><img src=\"https://colab.research.google.com/assets/colab-badge.svg\" alt=\"Open In Colab\"/></a>"
      ]
    },
    {
      "cell_type": "markdown",
      "metadata": {
        "id": "TBaykRQJKIs_"
      },
      "source": [
        "En primer lugar, descargamos el dataset de fruits-360 de [github](https://github.com/Horea94/Fruit-Images-Dataset/archive/master.zip)"
      ]
    },
    {
      "cell_type": "code",
      "metadata": {
        "colab": {
          "base_uri": "https://localhost:8080/"
        },
        "id": "IMFRdeI0Jorj",
        "outputId": "aa17bf43-085a-4a09-ccf4-7ffe3a6fef9c"
      },
      "source": [
        "import tensorflow as tf\r\n",
        "import os as os\r\n",
        "\r\n",
        "_URL = 'https://github.com/Horea94/Fruit-Images-Dataset/archive/master.zip'\r\n",
        "\r\n",
        "zip_file = tf.keras.utils.get_file(origin=_URL, fname='Fruit-Images-Dataset-master.zip', extract=True, cache_subdir='/content')"
      ],
      "execution_count": 1,
      "outputs": [
        {
          "output_type": "stream",
          "text": [
            "Downloading data from https://github.com/Horea94/Fruit-Images-Dataset/archive/master.zip\n",
            "797360128/Unknown - 33s 0us/step"
          ],
          "name": "stdout"
        }
      ]
    },
    {
      "cell_type": "markdown",
      "metadata": {
        "id": "El_DaLToR8fX"
      },
      "source": [
        "Establecemos los parámetros iniciales de tamaño de imagen y directorio donde buscar las fotos de frutas"
      ]
    },
    {
      "cell_type": "code",
      "metadata": {
        "id": "4dd8NXEZSEWp"
      },
      "source": [
        "base_dir = './Fruit-Images-Dataset-master/Training')\r\n",
        "\r\n",
        "IMAGE_SIZE = 224\r\n",
        "BATCH_SIZE = 64\r\n",
        "\r\n",
        "datagen = tf.keras.preprocessing.image.ImageDataGenerator"
      ],
      "execution_count": null,
      "outputs": []
    }
  ]
}